{
 "cells": [
  {
   "cell_type": "code",
   "execution_count": null,
   "metadata": {},
   "outputs": [],
   "source": [
    "#!pip install dm-pybloom\n",
    "#!pip install bitarray\n",
    "#pip install kafka-python\n",
    "#!curl https://www.mit.edu/~ecprice/wordlist.10000 -o words.txt\n",
    "#!ls -l\n",
    "\n",
    "#pip install --no "
   ]
  },
  {
   "cell_type": "code",
   "execution_count": 115,
   "metadata": {},
   "outputs": [],
   "source": [
    "from kafka3 import TopicPartition, KafkaConsumer, KafkaProducer\n",
    "from time import sleep\n",
    "from pybloom import ScalableBloomFilter, BloomFilter\n",
    "from json import loads,dumps\n",
    "from datetime import datetime\n",
    "import hashlib\n",
    "from bitarray import bitarray\n",
    "\n",
    "#Global Variables\n",
    "SERVER = 'BR'\n",
    "TOPICOS ='Topicos'+SERVER\n",
    "CAPACITY = 100\n",
    "ERROR_RATE = 0.005\n",
    "MODE = ScalableBloomFilter.SMALL_SET_GROWTH\n",
    "\n",
    "delay = {\n",
    "    \n",
    "    'MZ_PT' : 200/1000,\n",
    "    'MZ_BR' : 300/1000,\n",
    "    'PT_MZ' : 200/1000,\n",
    "    'PT_BR' : 250/1000,\n",
    "    'BR_MZ' : 300/1000,\n",
    "    'BR_PT' : 250/1000\n",
    "}"
   ]
  },
  {
   "cell_type": "code",
   "execution_count": null,
   "metadata": {},
   "outputs": [
    {
     "name": "stdout",
     "output_type": "stream",
     "text": [
      "Gateway BR\n"
     ]
    }
   ],
   "source": [
    "\n",
    "consumer = KafkaConsumer( bootstrap_servers='kafka:9092',  value_deserializer=lambda x: loads(x.decode('utf-8'))) \n",
    "producer = KafkaProducer(bootstrap_servers='kafka:9092' , value_serializer=lambda x:  dumps(x).encode('utf-8'))\n",
    "      \n",
    "\n",
    "def subscribe(consumer, topico):\n",
    "    lista = consumer.subscription()\n",
    "    if lista is None:\n",
    "        consumer.subscribe(topico)\n",
    "    else:\n",
    "        lista.add(topico)\n",
    "        consumer.subscribe(lista)\n",
    "        \n",
    "def Encaminhamento(aux_topico, mensagem):\n",
    "    for i in range(len(List_bloofGW)):\n",
    "        for aux_serverGW in List_bloofGW[i].keys():\n",
    "            aux_sbfGW = List_bloofGW[i][aux_serverGW]\n",
    "            if aux_topico in aux_sbfGW:\n",
    "                message = {'server':aux_serverGW, 'message' : mensagem, 'from':SERVER,'topico': aux_serverGW.lower()+'_'+aux_topico}\n",
    "                producer.send('Encaminhamento_'+aux_serverGW.upper(), value = message)\n",
    "                \n",
    "subscribe(consumer,TOPICOS)\n",
    "subscribe(consumer,'central_SBF')\n",
    "subscribe(consumer,'Encaminhamento_'+SERVER)\n",
    "listaTopicos = {}\n",
    "bloof = ScalableBloomFilter(initial_capacity=CAPACITY, error_rate=ERROR_RATE, mode=MODE)\n",
    "List_bloofGW = []\n",
    "\n",
    "print('Gateway '+SERVER)\n",
    "for msg in consumer:\n",
    "    if  msg.topic == TOPICOS:\n",
    "        topicos = msg.value['topico']\n",
    "        list_bit_array =[]\n",
    "        for topico in topicos:\n",
    "            subscribe(consumer,topico)\n",
    "            bloof.add(topico.split(\"_\")[1])\n",
    "        for i in range(len(bloof.filters)):\n",
    "            dict_bit_array = {}\n",
    "            dict_bit_array['BF'] = bloof.filters[i].bitarray.tolist()\n",
    "            dict_bit_array['Capacity'] = bloof.filters[i].capacity\n",
    "            dict_bit_array['Error_tax'] = bloof.filters[i].error_rate\n",
    "            list_bit_array.append(dict_bit_array)\n",
    "        message = {'server' : SERVER, 'SBF' : dumps(list_bit_array) }\n",
    "        producer.send('central_SBF',value = message)\n",
    "        print('Enviou BF')\n",
    "    elif  msg.topic == 'central_SBF':\n",
    "        server_from = msg.value['server']\n",
    "        #evita enciar para si mesmo\n",
    "        if  server_from != SERVER: \n",
    "            print('recebeu BF do server '+server_from)\n",
    "            bloofGW_aux={}\n",
    "            bloofGW_aux[server_from] = ScalableBloomFilter(initial_capacity=CAPACITY, error_rate= ERROR_RATE, mode= MODE)\n",
    "            list_bit_array = loads(msg.value['SBF'])\n",
    "            for X in list_bit_array:\n",
    "                bfilter = BloomFilter(capacity=X['Capacity'], error_rate=X['Error_tax'])\n",
    "                bfilter.bitarray = X['BF']\n",
    "                bloofGW_aux[server_from].filters.append(bfilter)\n",
    "            List_bloofGW.append(bloofGW_aux) \n",
    "    elif  msg.topic == 'Encaminhamento_'+SERVER:\n",
    "        sleep(delay[SERVER + '_' +msg.value['from']])\n",
    "        message = {'message':msg.value['message'], 'from':msg.value['from']}\n",
    "        producer.send(msg.value['topico'], value = message)\n",
    "    else:\n",
    "        # evita criar ciclo de encaminhamentos \n",
    "        if msg.value.get(\"from\") is None:\n",
    "            Encaminhamento(msg.topic.split('_')[1], msg.value)\n",
    "        \n",
    "        #      houve_alteracao = False\n",
    "        #      listaTopicos[msg.topic] = datetime.now()\n",
    "        #      body = msg.value['body']\n",
    "        #      print ('receber msg de: ' + body)\n",
    "        #      listaTopicos_aux = listaTopicos.copy()\n",
    "        #      for elem in listaTopicos_aux:\n",
    "        #          difference  = datetime.now() - listaTopicos[elem]\n",
    "        #          if difference.seconds > 5:\n",
    "        #              del listaTopicos[elem]\n",
    "        #              houve_alteracao = True\n",
    "        #       if houve_alteracao == True:\n",
    "        #           print('Novo BF')\n",
    "        #           bloof = ScalableBloomFilter(initial_capacity=100, error_rate=0.005, mode=ScalableBloomFilter.SMALL_SET_GROWTH)\n",
    "        #           consumer.unsubscribe()\n",
    "        #           subscribe(consumer,Topicos)\n",
    "        #           subscribe(consumer,'central_SBF')  \n",
    "        #           for elem in listaTopicos:\n",
    "        #               subscribe(consumer,elem)\n",
    "        #               bloof.add(elem)"
   ]
  },
  {
   "cell_type": "code",
   "execution_count": 114,
   "metadata": {},
   "outputs": [
    {
     "name": "stdout",
     "output_type": "stream",
     "text": [
      "64\n"
     ]
    }
   ],
   "source": [
    "import sys\n",
    "print(sys.getsizeof(bloof))"
   ]
  },
  {
   "cell_type": "code",
   "execution_count": null,
   "metadata": {},
   "outputs": [],
   "source": []
  }
 ],
 "metadata": {
  "kernelspec": {
   "display_name": "Python 3",
   "language": "python",
   "name": "python3"
  },
  "language_info": {
   "codemirror_mode": {
    "name": "ipython",
    "version": 3
   },
   "file_extension": ".py",
   "mimetype": "text/x-python",
   "name": "python",
   "nbconvert_exporter": "python",
   "pygments_lexer": "ipython3",
   "version": "3.7.6"
  }
 },
 "nbformat": 4,
 "nbformat_minor": 4
}
