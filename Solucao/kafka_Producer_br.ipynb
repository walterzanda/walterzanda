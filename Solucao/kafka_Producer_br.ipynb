{
 "cells": [
  {
   "cell_type": "code",
   "execution_count": 30,
   "metadata": {},
   "outputs": [
    {
     "name": "stdout",
     "output_type": "stream",
     "text": [
      "total 152\n",
      "-rw-r--r-- 1 jovyan users  5514 May 25 13:18 bkafka_Gateway_mz.ipynb\n",
      "-rw-r--r-- 1 jovyan users 18912 May 30 17:48 kafka_consummer_br.ipynb\n",
      "-rw-r--r-- 1 jovyan users 19791 May 30 17:48 kafka_consummer_mz.ipynb\n",
      "-rw-r--r-- 1 jovyan users  8065 May 30 17:13 kafka_Gateway_br.ipynb\n",
      "-rw-r--r-- 1 jovyan users  8997 May 30 17:13 kafka_Gateway_mz.ipynb\n",
      "-rw-r--r-- 1 jovyan users  4219 May 30 18:04 kafka_Producer_mz.ipynb\n",
      "-rw-r--r-- 1 jovyan users 75880 May 30 18:03 word.txt\n"
     ]
    }
   ],
   "source": [
    "#!pip install dm-pybloom\n",
    "#!pip install bitarray\n",
    "#!pip install kafka-python\n",
    "#!curl https://www.mit.edu/~ecprice/wordlist.10000 -o words.txt\n",
    "#!ls -l\n",
    "\n",
    "#!pip install --no-index ./../dm_pybloom-3.0.4.tar.gz\n",
    "#!pip install --no-index ./../bitarray-2.7.3.tar.gz\n",
    "#!pip install --no-index ./../kafka-python3-3.0.0.tar.gz"
   ]
  },
  {
   "cell_type": "code",
   "execution_count": 5,
   "metadata": {},
   "outputs": [],
   "source": [
    "#Global Variables\n",
    "#Cenario 1\n",
    "SERVER = 'BR'\n",
    "#topicos = ['Teatro', 'Musica', 'Series', 'Educacao', 'Teatro', 'Nutricao', 'Ginasio', 'ciencia', 'technologia']\n",
    "\n",
    "all_words = list()\n",
    "with open(\"words.txt\",encoding='utf-8-sig') as f:\n",
    "    for line in f:\n",
    "        all_words.append(line.rstrip())\n",
    "\n",
    "#shuffle(all_words) \n",
    "# first n element\n",
    "topicos= all_words[:1200]"
   ]
  },
  {
   "cell_type": "code",
   "execution_count": 8,
   "metadata": {},
   "outputs": [],
   "source": [
    "#Global Variables\n",
    "#Cenario 2\n",
    "from random import shuffle, choice\n",
    "SERVER = 'BR'\n",
    "\n",
    "all_words = list()\n",
    "with open(\"words.txt\",encoding='utf-8-sig') as f:\n",
    "    for line in f:\n",
    "        all_words.append(line.rstrip())\n",
    "\n",
    "shuffle(all_words) \n",
    "# first n element\n",
    "topicos= all_words[:1500]"
   ]
  },
  {
   "cell_type": "code",
   "execution_count": 9,
   "metadata": {},
   "outputs": [
    {
     "name": "stdout",
     "output_type": "stream",
     "text": [
      "inicio\n",
      "fim\n"
     ]
    }
   ],
   "source": [
    "from kafka3 import KafkaProducer\n",
    "from time import sleep\n",
    "from json import dumps\n",
    "import hashlib\n",
    "from datetime import datetime\n",
    "\n",
    "print('inicio')\n",
    "producer = KafkaProducer(bootstrap_servers='kafka:9092' , value_serializer=lambda x:  dumps(x).encode('utf-8'))\n",
    "\n",
    "for x in topicos:\n",
    "    hastopic = hashlib.sha1(x.encode('utf-8')).hexdigest()\n",
    "    hastopic = SERVER.lower() + '_' + hastopic\n",
    "    e ='fala sobre: '+ x\n",
    "    a = datetime.now()\n",
    "    ts = datetime.timestamp(a)\n",
    "    message = {'body' : e, 'time_start':ts}\n",
    "    producer.send(hastopic,value = message)\n",
    "producer.flush()\n",
    "print('fim')\n",
    "\n"
   ]
  },
  {
   "cell_type": "code",
   "execution_count": null,
   "metadata": {},
   "outputs": [],
   "source": []
  },
  {
   "cell_type": "code",
   "execution_count": null,
   "metadata": {},
   "outputs": [],
   "source": []
  },
  {
   "cell_type": "code",
   "execution_count": null,
   "metadata": {},
   "outputs": [],
   "source": []
  }
 ],
 "metadata": {
  "kernelspec": {
   "display_name": "Python 3",
   "language": "python",
   "name": "python3"
  },
  "language_info": {
   "codemirror_mode": {
    "name": "ipython",
    "version": 3
   },
   "file_extension": ".py",
   "mimetype": "text/x-python",
   "name": "python",
   "nbconvert_exporter": "python",
   "pygments_lexer": "ipython3",
   "version": "3.7.6"
  }
 },
 "nbformat": 4,
 "nbformat_minor": 4
}
